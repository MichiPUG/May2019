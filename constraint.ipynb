{
 "cells": [
  {
   "cell_type": "markdown",
   "metadata": {},
   "source": [
    "## Constraint Programming"
   ]
  },
  {
   "cell_type": "markdown",
   "metadata": {},
   "source": [
    "Constraint programming is a type of declarative programming where you don't code the steps to reach a set of solutions, but you encode the variables to be determined and a set of constraints for success in setting them. In this intro, I'll be using the module python-constraint, which can be installed with\n",
    "```python -m pip install python-contraint```\n",
    "or\n",
    "```pip install python-constraint```"
   ]
  },
  {
   "cell_type": "markdown",
   "metadata": {},
   "source": [
    "As an example, I'll use an arbitrary, simple, and not very useful problem where we need to determine x and y where x is 1, 2, or 3, and y is an integer between 0 and 9 inclusive, and the sum of the 2 is greater than or equal to 5."
   ]
  },
  {
   "cell_type": "code",
   "execution_count": 1,
   "metadata": {},
   "outputs": [],
   "source": [
    "import constraint"
   ]
  },
  {
   "cell_type": "markdown",
   "metadata": {},
   "source": [
    "We will define the variables x and y, and their acceptable values, and the additional constraint that their sum be greater than or equal to 5."
   ]
  },
  {
   "cell_type": "code",
   "execution_count": 2,
   "metadata": {},
   "outputs": [
    {
     "data": {
      "text/plain": [
       "[{'x': 3, 'y': 9},\n",
       " {'x': 3, 'y': 8},\n",
       " {'x': 3, 'y': 7},\n",
       " {'x': 3, 'y': 6},\n",
       " {'x': 3, 'y': 5},\n",
       " {'x': 3, 'y': 4},\n",
       " {'x': 3, 'y': 3},\n",
       " {'x': 3, 'y': 2},\n",
       " {'x': 2, 'y': 9},\n",
       " {'x': 2, 'y': 8},\n",
       " {'x': 2, 'y': 7},\n",
       " {'x': 2, 'y': 6},\n",
       " {'x': 2, 'y': 5},\n",
       " {'x': 2, 'y': 4},\n",
       " {'x': 2, 'y': 3},\n",
       " {'x': 1, 'y': 9},\n",
       " {'x': 1, 'y': 8},\n",
       " {'x': 1, 'y': 7},\n",
       " {'x': 1, 'y': 6},\n",
       " {'x': 1, 'y': 5},\n",
       " {'x': 1, 'y': 4}]"
      ]
     },
     "execution_count": 2,
     "metadata": {},
     "output_type": "execute_result"
    }
   ],
   "source": [
    "problem = constraint.Problem()\n",
    "\n",
    "problem.addVariable('x', [1,2,3])\n",
    "problem.addVariable('y', range(10))\n",
    "\n",
    "def our_constraint(x, y):\n",
    "    if x + y >= 5:\n",
    "        return True\n",
    "\n",
    "problem.addConstraint(our_constraint, ['x', 'y'])\n",
    "\n",
    "solutions = problem.getSolutions()\n",
    "solutions"
   ]
  },
  {
   "cell_type": "markdown",
   "metadata": {},
   "source": [
    "You'll notice that the result is a list of dictionaries, each one giving the results for each variable in that solution."
   ]
  },
  {
   "cell_type": "markdown",
   "metadata": {},
   "source": [
    "The values don't have to be integers or even numbers, they just have to be testable against the constraints that you have. They can be lists, or dictionaries, or whatever. I'm mostly using integers because it's easy to demonstrate with them."
   ]
  },
  {
   "cell_type": "markdown",
   "metadata": {},
   "source": [
    "## Digit Letter Puzzles\n",
    "\n",
    "There are puzzles where you need to solve a problem like\n",
    "```\n",
    " TWO\n",
    "+TWO\n",
    "-----\n",
    "FOUR\n",
    "```\n",
    "Where each unique letter stands for a different digit, and when the digits are substituted, the addition problem as noted gives a correct answer. Initial digits (the T and the F) cannot be 0, and no two letters can have the same digit value.\n",
    "We set a variable for each letter, with the valid values, and add the constraint that the addition problem is correct.\n",
    "A constraint is an executable that takes variables as parameters, and returns True if the constraint is met.\n",
    "It's easy to use strings for multiple variable names, since they are iterable."
   ]
  },
  {
   "cell_type": "code",
   "execution_count": 3,
   "metadata": {},
   "outputs": [
    {
     "data": {
      "text/plain": [
       "[{'F': 1, 'O': 5, 'R': 0, 'T': 7, 'U': 3, 'W': 6},\n",
       " {'F': 1, 'O': 4, 'R': 8, 'T': 7, 'U': 6, 'W': 3},\n",
       " {'F': 1, 'O': 7, 'R': 4, 'T': 8, 'U': 3, 'W': 6},\n",
       " {'F': 1, 'O': 6, 'R': 2, 'T': 8, 'U': 9, 'W': 4},\n",
       " {'F': 1, 'O': 6, 'R': 2, 'T': 8, 'U': 7, 'W': 3},\n",
       " {'F': 1, 'O': 8, 'R': 6, 'T': 9, 'U': 5, 'W': 2},\n",
       " {'F': 1, 'O': 8, 'R': 6, 'T': 9, 'U': 7, 'W': 3}]"
      ]
     },
     "execution_count": 3,
     "metadata": {},
     "output_type": "execute_result"
    }
   ],
   "source": [
    "problem = constraint.Problem()\n",
    "\n",
    "problem.addVariables(\"TF\", range(1,10))\n",
    "problem.addVariables(\"WOUR\", range(10))\n",
    "\n",
    "def sum_constraint(t, w, o, f, u, r):\n",
    "    if 2*(t*100 + w*10 + o) == f*1000 + o*100 +u*10 + r:\n",
    "        return True\n",
    "    \n",
    "problem.addConstraint(sum_constraint, \"TWOFUR\")\n",
    "\n",
    "problem.addConstraint(constraint.AllDifferentConstraint())\n",
    "\n",
    "solutions = problem.getSolutions()\n",
    "solutions"
   ]
  },
  {
   "cell_type": "markdown",
   "metadata": {},
   "source": [
    "Those answers aren't easy to understand, so let's format it up to make it easier. We create a string with the replacements for TWO and FOUR"
   ]
  },
  {
   "cell_type": "code",
   "execution_count": 4,
   "metadata": {},
   "outputs": [
    {
     "name": "stdout",
     "output_type": "stream",
     "text": [
      " 765\n",
      " 765\n",
      "----\n",
      "1530\n",
      "\n",
      " 734\n",
      " 734\n",
      "----\n",
      "1468\n",
      "\n",
      " 867\n",
      " 867\n",
      "----\n",
      "1734\n",
      "\n",
      " 846\n",
      " 846\n",
      "----\n",
      "1692\n",
      "\n",
      " 836\n",
      " 836\n",
      "----\n",
      "1672\n",
      "\n",
      " 928\n",
      " 928\n",
      "----\n",
      "1856\n",
      "\n",
      " 938\n",
      " 938\n",
      "----\n",
      "1876\n",
      "\n"
     ]
    }
   ],
   "source": [
    "for s in solutions:\n",
    "    d = {}\n",
    "    for key,val in s.items():\n",
    "        d[key] = str(val)\n",
    "    two = \"\".join([d[x] for x in 'TWO'])\n",
    "    four = \"\".join([d[x] for x in 'FOUR'])\n",
    "    print(\" {0}\\n {0}\\n----\\n{1}\\n\".format(two, four))"
   ]
  },
  {
   "cell_type": "markdown",
   "metadata": {},
   "source": [
    "### 4 x 4 magic square\n",
    "Here's a bit more ambitious problem with a set of constraints. Form a standard minimal 4x4 magic square.\n",
    "\n",
    "```\n",
    "a b c d\n",
    "e f g h\n",
    "i j k l\n",
    "m n o p\n",
    "```\n",
    "All rows(abcd, efgh, ...), columns(aeim, ...), and diagonals(afkp, dgjm) add up to the same number. Each entry is a number between 1 and 16, and no number is repeated.\n",
    "That sum has to be 34 == sum(abcdefghijklmnop)/4; (16+1)(16)/(2*4)"
   ]
  },
  {
   "cell_type": "code",
   "execution_count": 6,
   "metadata": {},
   "outputs": [
    {
     "name": "stdout",
     "output_type": "stream",
     "text": [
      "There are 10 solution(s)\n",
      "\n",
      "Solution 1\n",
      "[1, 15, 14, 4]\n",
      "[12, 6, 7, 9]\n",
      "[8, 10, 11, 5]\n",
      "[13, 3, 2, 16]\n",
      "\n",
      "Solution 2\n",
      "[1, 15, 14, 4]\n",
      "[11, 8, 5, 10]\n",
      "[6, 9, 12, 7]\n",
      "[16, 2, 3, 13]\n",
      "\n",
      "Solution 3\n",
      "[1, 15, 14, 4]\n",
      "[10, 8, 5, 11]\n",
      "[7, 9, 12, 6]\n",
      "[16, 2, 3, 13]\n",
      "\n",
      "Solution 4\n",
      "[1, 15, 14, 4]\n",
      "[7, 9, 6, 12]\n",
      "[10, 8, 11, 5]\n",
      "[16, 2, 3, 13]\n",
      "\n",
      "Solution 5\n",
      "[1, 15, 14, 4]\n",
      "[12, 9, 6, 7]\n",
      "[5, 8, 11, 10]\n",
      "[16, 2, 3, 13]\n",
      "\n",
      "Solution 6\n",
      "[1, 15, 14, 4]\n",
      "[8, 10, 11, 5]\n",
      "[12, 6, 7, 9]\n",
      "[13, 3, 2, 16]\n",
      "\n",
      "Solution 7\n",
      "[1, 15, 14, 4]\n",
      "[5, 11, 8, 10]\n",
      "[12, 6, 9, 7]\n",
      "[16, 2, 3, 13]\n",
      "\n",
      "Solution 8\n",
      "[1, 15, 14, 4]\n",
      "[10, 11, 8, 5]\n",
      "[7, 6, 9, 12]\n",
      "[16, 2, 3, 13]\n",
      "\n",
      "Solution 9\n",
      "[1, 15, 14, 4]\n",
      "[7, 12, 9, 6]\n",
      "[10, 5, 8, 11]\n",
      "[16, 2, 3, 13]\n",
      "\n",
      "Solution 10\n",
      "[1, 15, 14, 4]\n",
      "[6, 12, 9, 7]\n",
      "[11, 5, 8, 10]\n",
      "[16, 2, 3, 13]\n"
     ]
    }
   ],
   "source": [
    "SUM = 34\n",
    "from constraint import (Problem, AllDifferentConstraint, \n",
    "                        ExactSumConstraint)\n",
    "\n",
    "problem = Problem()\n",
    "\n",
    "# When I ran the full problem, it took far too long to get the answer\n",
    "# to use in a demonstration, so I've set the first few values in the\n",
    "# square to values that produce some of the possible magic squares.\n",
    "problem.addVariable(0, [1])\n",
    "problem.addVariable(1, [15])\n",
    "problem.addVariable(2, [14])\n",
    "#problem.addVariable(3, [4])\n",
    "#problem.addVariable(4, [10])\n",
    "#problem.addVariable(5, [11])\n",
    "#problem.addVariable(6, [8])\n",
    "#problem.addVariable(7, [5])\n",
    "problem.addVariables(range(3, 16), range(1, 16+1)) # variables are ints\n",
    "\n",
    "problem.addConstraint(AllDifferentConstraint(), range(0,16))\n",
    "# Diagonals\n",
    "problem.addConstraint(ExactSumConstraint(SUM), [0,5,10,15])\n",
    "problem.addConstraint(ExactSumConstraint(SUM), [3,6,9,12])\n",
    "\n",
    "for row in range(4):\n",
    "    problem.addConstraint(\n",
    "        ExactSumConstraint(SUM), \n",
    "        [row*4+i for i in range(4)])\n",
    "    \n",
    "for col in range(4):\n",
    "    problem.addConstraint(\n",
    "        ExactSumConstraint(SUM),\n",
    "        [col+4*i for i in range(4)])\n",
    "    \n",
    "\n",
    "solutions = problem.getSolutions()\n",
    "print(\"There {} {} solution(s)\".format(\"is\" if len(solutions)==1 else \"are\", len(solutions)))\n",
    "for i,s in enumerate(solutions, start=1):\n",
    "    print(\"\\nSolution {}\".format(i))\n",
    "    for row in range(4):\n",
    "        print([s[row*4+i] for i in range(4)])"
   ]
  },
  {
   "cell_type": "markdown",
   "metadata": {},
   "source": [
    "## Other applications\n",
    "\n",
    "These were all pretty artificial or game like examples, but there are real world examples like:\n",
    "\n",
    " - Locating devices in different locations\n",
    " - Assigning resources to projects\n",
    " - Packing things in containers\n",
    " - Finding paths through a network and allocating traffic to them"
   ]
  },
  {
   "cell_type": "markdown",
   "metadata": {},
   "source": [
    "### Built in constraints\n",
    "- AllDifferentConstraint\n",
    "- AllEqualConstraint\n",
    "- MaxSumConstraint\n",
    "- ExactSumConstraint\n",
    "- MinSumConstraint\n",
    "- InSetConstraint\n",
    "- NotinSetConstraint\n",
    "- SomeInSetConstraint\n",
    "- SomeNotInSetConstraint"
   ]
  },
  {
   "cell_type": "markdown",
   "metadata": {},
   "source": [
    "There's lots more to learn about the package. It's possible to use different solvers: Backtracking, Recursive backtracking, and Minimum conflicts."
   ]
  },
  {
   "cell_type": "code",
   "execution_count": null,
   "metadata": {},
   "outputs": [],
   "source": []
  }
 ],
 "metadata": {
  "kernelspec": {
   "display_name": "Python 3",
   "language": "python",
   "name": "python3"
  },
  "language_info": {
   "codemirror_mode": {
    "name": "ipython",
    "version": 3
   },
   "file_extension": ".py",
   "mimetype": "text/x-python",
   "name": "python",
   "nbconvert_exporter": "python",
   "pygments_lexer": "ipython3",
   "version": "3.5.2"
  }
 },
 "nbformat": 4,
 "nbformat_minor": 2
}
